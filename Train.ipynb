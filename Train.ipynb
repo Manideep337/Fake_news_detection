{
 "cells": [
  {
   "cell_type": "code",
   "execution_count": 158,
   "outputs": [],
   "source": [
    "import pandas as pd\n",
    "from sklearn.preprocessing import LabelEncoder\n",
    "from tensorflow.keras.preprocessing.text import Tokenizer\n",
    "from tensorflow.keras.preprocessing.sequence import pad_sequences\n",
    "from tensorflow.keras import layers, Sequential\n",
    "from tensorflow.keras.optimizers import Adam\n",
    "from tensorflow.keras.regularizers import l2\n",
    "from sklearn.metrics import classification_report, confusion_matrix\n",
    "import seaborn as sns\n",
    "import matplotlib.pyplot as plt\n",
    "import pickle\n",
    "import json\n",
    "from sklearn.metrics import precision_score, recall_score, f1_score\n",
    "import matplotlib.pyplot as plt"
   ],
   "metadata": {
    "collapsed": false,
    "ExecuteTime": {
     "end_time": "2023-11-13T22:23:07.253553Z",
     "start_time": "2023-11-13T22:23:07.161019Z"
    }
   },
   "id": "1edc29cbec5ce44f"
  },
  {
   "cell_type": "code",
   "execution_count": 159,
   "outputs": [],
   "source": [
    "def conversion():\n",
    "    csv_file_1 = pd.read_csv('Fake.csv')\n",
    "    csv_file_2 = pd.read_csv('True.csv')\n",
    "    \n",
    "    # Concatenate the two DataFrames\n",
    "    combined_df = pd.concat([csv_file_1, csv_file_2], ignore_index=True)\n",
    "    \n",
    "    # Save the combined DataFrame to a new CSV file\n",
    "    combined_df.to_excel('combined_csv_file_final.xls', index=False)\n"
   ],
   "metadata": {
    "collapsed": false,
    "ExecuteTime": {
     "end_time": "2023-11-13T22:23:07.255111Z",
     "start_time": "2023-11-13T22:23:07.170366Z"
    }
   },
   "id": "c314a81dc1e77f70"
  },
  {
   "cell_type": "code",
   "execution_count": 160,
   "outputs": [
    {
     "name": "stdout",
     "output_type": "stream",
     "text": [
      "                                                   title  \\\n",
      "0       Donald Trump Sends Out Embarrassing New Year’...   \n",
      "1       Drunk Bragging Trump Staffer Started Russian ...   \n",
      "2       Sheriff David Clarke Becomes An Internet Joke...   \n",
      "3       Trump Is So Obsessed He Even Has Obama’s Name...   \n",
      "4       Pope Francis Just Called Out Donald Trump Dur...   \n",
      "...                                                  ...   \n",
      "44788  'Fully committed' NATO backs new U.S. approach...   \n",
      "44789  LexisNexis withdrew two products from Chinese ...   \n",
      "44790  Minsk cultural hub becomes haven from authorities   \n",
      "44791  Vatican upbeat on possibility of Pope Francis ...   \n",
      "44792  Indonesia to buy $1.14 billion worth of Russia...   \n",
      "\n",
      "                                                    text label Unnamed: 3  \\\n",
      "0      Donald Trump just couldn t wish all Americans ...  Fake        NaN   \n",
      "1      House Intelligence Committee Chairman Devin Nu...  Fake        NaN   \n",
      "2      On Friday, it was revealed that former Milwauk...  Fake        NaN   \n",
      "3      On Christmas day, Donald Trump announced that ...  Fake        NaN   \n",
      "4      Pope Francis used his annual Christmas Day mes...  Fake        NaN   \n",
      "...                                                  ...   ...        ...   \n",
      "44788  BRUSSELS (Reuters) - NATO allies on Tuesday we...  True        NaN   \n",
      "44789  LONDON (Reuters) - LexisNexis, a provider of l...  True        NaN   \n",
      "44790  MINSK (Reuters) - In the shadow of disused Sov...  True        NaN   \n",
      "44791  MOSCOW (Reuters) - Vatican Secretary of State ...  True        NaN   \n",
      "44792  JAKARTA (Reuters) - Indonesia will buy 11 Sukh...  True        NaN   \n",
      "\n",
      "      Unnamed: 4 Unnamed: 5 Unnamed: 6 Unnamed: 7 Unnamed: 8 Unnamed: 9  ...  \\\n",
      "0            NaN        NaN        NaN        NaN        NaN        NaN  ...   \n",
      "1            NaN        NaN        NaN        NaN        NaN        NaN  ...   \n",
      "2            NaN        NaN        NaN        NaN        NaN        NaN  ...   \n",
      "3            NaN        NaN        NaN        NaN        NaN        NaN  ...   \n",
      "4            NaN        NaN        NaN        NaN        NaN        NaN  ...   \n",
      "...          ...        ...        ...        ...        ...        ...  ...   \n",
      "44788        NaN        NaN        NaN        NaN        NaN        NaN  ...   \n",
      "44789        NaN        NaN        NaN        NaN        NaN        NaN  ...   \n",
      "44790        NaN        NaN        NaN        NaN        NaN        NaN  ...   \n",
      "44791        NaN        NaN        NaN        NaN        NaN        NaN  ...   \n",
      "44792        NaN        NaN        NaN        NaN        NaN        NaN  ...   \n",
      "\n",
      "      Unnamed: 163 Unnamed: 164 Unnamed: 165 Unnamed: 166 Unnamed: 167  \\\n",
      "0              NaN          NaN          NaN          NaN          NaN   \n",
      "1              NaN          NaN          NaN          NaN          NaN   \n",
      "2              NaN          NaN          NaN          NaN          NaN   \n",
      "3              NaN          NaN          NaN          NaN          NaN   \n",
      "4              NaN          NaN          NaN          NaN          NaN   \n",
      "...            ...          ...          ...          ...          ...   \n",
      "44788          NaN          NaN          NaN          NaN          NaN   \n",
      "44789          NaN          NaN          NaN          NaN          NaN   \n",
      "44790          NaN          NaN          NaN          NaN          NaN   \n",
      "44791          NaN          NaN          NaN          NaN          NaN   \n",
      "44792          NaN          NaN          NaN          NaN          NaN   \n",
      "\n",
      "      Unnamed: 168 Unnamed: 169 Unnamed: 170 Unnamed: 171  \\\n",
      "0              NaN          NaN          NaN          NaN   \n",
      "1              NaN          NaN          NaN          NaN   \n",
      "2              NaN          NaN          NaN          NaN   \n",
      "3              NaN          NaN          NaN          NaN   \n",
      "4              NaN          NaN          NaN          NaN   \n",
      "...            ...          ...          ...          ...   \n",
      "44788          NaN          NaN          NaN          NaN   \n",
      "44789          NaN          NaN          NaN          NaN   \n",
      "44790          NaN          NaN          NaN          NaN   \n",
      "44791          NaN          NaN          NaN          NaN   \n",
      "44792          NaN          NaN          NaN          NaN   \n",
      "\n",
      "                                           text_combined  \n",
      "0       Donald Trump Sends Out Embarrassing New Year’...  \n",
      "1       Drunk Bragging Trump Staffer Started Russian ...  \n",
      "2       Sheriff David Clarke Becomes An Internet Joke...  \n",
      "3       Trump Is So Obsessed He Even Has Obama’s Name...  \n",
      "4       Pope Francis Just Called Out Donald Trump Dur...  \n",
      "...                                                  ...  \n",
      "44788  'Fully committed' NATO backs new U.S. approach...  \n",
      "44789  LexisNexis withdrew two products from Chinese ...  \n",
      "44790  Minsk cultural hub becomes haven from authorities  \n",
      "44791  Vatican upbeat on possibility of Pope Francis ...  \n",
      "44792  Indonesia to buy $1.14 billion worth of Russia...  \n",
      "\n",
      "[44793 rows x 173 columns]\n"
     ]
    }
   ],
   "source": [
    "print(data)\n"
   ],
   "metadata": {
    "collapsed": false,
    "ExecuteTime": {
     "end_time": "2023-11-13T22:23:07.257180Z",
     "start_time": "2023-11-13T22:23:07.180348Z"
    }
   },
   "id": "dc8d28ceae950e50"
  },
  {
   "cell_type": "code",
   "execution_count": 161,
   "outputs": [],
   "source": [
    "for i in range(len(data['text_combined'])):\n",
    "    if type(data['text_combined'][i]) != type(\"hye\"):\n",
    "        print(i)"
   ],
   "metadata": {
    "collapsed": false,
    "ExecuteTime": {
     "end_time": "2023-11-13T22:23:07.363039Z",
     "start_time": "2023-11-13T22:23:07.289254Z"
    }
   },
   "id": "c1f8ad29f43b364f"
  },
  {
   "cell_type": "code",
   "execution_count": 162,
   "outputs": [],
   "source": [
    "\n",
    "max_sequence_length = 30\n",
    "# Create a tokenizer and fit it on your text data\n",
    "tokenizer = Tokenizer()\n",
    "tokenizer.fit_on_texts(data['text_combined'])\n",
    "\n",
    "# Convert text data into numerical representations\n",
    "X = tokenizer.texts_to_sequences(data['text_combined'])\n",
    "X = pad_sequences(X, maxlen=max_sequence_length)  # Define max_sequence_length\n",
    "\n",
    "y = data['label']\n",
    "tokenizer_config = tokenizer.to_json()\n",
    "with open(\"tokenizer_config.json\", \"w\") as json_file:\n",
    "    json.dump(tokenizer_config, json_file)"
   ],
   "metadata": {
    "collapsed": false,
    "ExecuteTime": {
     "end_time": "2023-11-13T22:23:08.577276Z",
     "start_time": "2023-11-13T22:23:07.376105Z"
    }
   },
   "id": "1f6d64a384956a17"
  },
  {
   "cell_type": "code",
   "execution_count": 163,
   "outputs": [],
   "source": [
    "from gensim.models import Word2Vec\n",
    "\n",
    "# Train Word2Vec on your tokenized text\n",
    "sentences = [text.split() for text in data['text_combined']]\n"
   ],
   "metadata": {
    "collapsed": false,
    "ExecuteTime": {
     "end_time": "2023-11-13T22:23:08.632548Z",
     "start_time": "2023-11-13T22:23:08.631124Z"
    }
   },
   "id": "b6324a26b9cc0c12"
  },
  {
   "cell_type": "code",
   "execution_count": 164,
   "outputs": [],
   "source": [
    "word2vec_model = Word2Vec(sentences, vector_size=100, window=5, min_count=1, sg=0)"
   ],
   "metadata": {
    "collapsed": false,
    "ExecuteTime": {
     "end_time": "2023-11-13T22:23:10.857017Z",
     "start_time": "2023-11-13T22:23:08.690025Z"
    }
   },
   "id": "32e0be602c945f1a"
  },
  {
   "cell_type": "code",
   "execution_count": 165,
   "outputs": [
    {
     "name": "stdout",
     "output_type": "stream",
     "text": [
      "<class 'numpy.ndarray'>\n",
      "[   0    0    0    0    0    0    0    0    0    0    0    0    0    0\n",
      "    0    0    0    0   61    2 1059   38 1150   28 4841 2889  417   40\n",
      "   15 1449]\n"
     ]
    }
   ],
   "source": [
    "print(type(X))\n",
    "print(X[0])\n",
    "for i in range(len(X)):\n",
    "    for j in range(len(X[i])):\n",
    "        X[i][j] = int(X[i][j])"
   ],
   "metadata": {
    "collapsed": false,
    "ExecuteTime": {
     "end_time": "2023-11-13T22:23:11.325721Z",
     "start_time": "2023-11-13T22:23:10.894080Z"
    }
   },
   "id": "898ab86f89cc17ab"
  },
  {
   "cell_type": "code",
   "execution_count": 166,
   "outputs": [],
   "source": [
    "label_encoder = LabelEncoder()\n",
    "y = label_encoder.fit_transform(data['label'])\n",
    "with open(\"label_encoder.pkl\", \"wb\") as file:\n",
    "    pickle.dump(label_encoder, file)"
   ],
   "metadata": {
    "collapsed": false,
    "ExecuteTime": {
     "end_time": "2023-11-13T22:23:11.334493Z",
     "start_time": "2023-11-13T22:23:11.331961Z"
    }
   },
   "id": "9e4583bbc072548b"
  },
  {
   "cell_type": "code",
   "execution_count": 167,
   "outputs": [],
   "source": [
    "from sklearn.model_selection import train_test_split\n",
    "\n",
    "X_train, X_test, y_train, y_test = train_test_split(X, y, test_size=0.2, random_state=42)\n"
   ],
   "metadata": {
    "collapsed": false,
    "ExecuteTime": {
     "end_time": "2023-11-13T22:23:11.341549Z",
     "start_time": "2023-11-13T22:23:11.338062Z"
    }
   },
   "id": "e76bfedfd1fc490d"
  },
  {
   "cell_type": "code",
   "execution_count": 168,
   "outputs": [
    {
     "name": "stdout",
     "output_type": "stream",
     "text": [
      "0\n"
     ]
    }
   ],
   "source": [
    "print(y[0])"
   ],
   "metadata": {
    "collapsed": false,
    "ExecuteTime": {
     "end_time": "2023-11-13T22:23:11.345953Z",
     "start_time": "2023-11-13T22:23:11.342791Z"
    }
   },
   "id": "5e7e7fe1967716ca"
  },
  {
   "cell_type": "code",
   "execution_count": 169,
   "outputs": [
    {
     "name": "stderr",
     "output_type": "stream",
     "text": [
      "WARNING:absl:At this time, the v2.11+ optimizer `tf.keras.optimizers.Adam` runs slowly on M1/M2 Macs, please use the legacy Keras optimizer instead, located at `tf.keras.optimizers.legacy.Adam`.\n",
      "WARNING:absl:There is a known slowdown when using v2.11+ Keras optimizers on M1/M2 Macs. Falling back to the legacy Keras optimizer, i.e., `tf.keras.optimizers.legacy.Adam`.\n"
     ]
    },
    {
     "name": "stdout",
     "output_type": "stream",
     "text": [
      "Model: \"sequential_10\"\n",
      "_________________________________________________________________\n",
      " Layer (type)                Output Shape              Param #   \n",
      "=================================================================\n",
      " embedding_10 (Embedding)    (None, 30, 100)           3175400   \n",
      "                                                                 \n",
      " conv1d_14 (Conv1D)          (None, 26, 128)           64128     \n",
      "                                                                 \n",
      " max_pooling1d_7 (MaxPoolin  (None, 6, 128)            0         \n",
      " g1D)                                                            \n",
      "                                                                 \n",
      " conv1d_15 (Conv1D)          (None, 2, 128)            82048     \n",
      "                                                                 \n",
      " bidirectional_7 (Bidirecti  (None, 2, 128)            98816     \n",
      " onal)                                                           \n",
      "                                                                 \n",
      " global_max_pooling1d_7 (Gl  (None, 128)               0         \n",
      " obalMaxPooling1D)                                               \n",
      "                                                                 \n",
      " dense_27 (Dense)            (None, 128)               16512     \n",
      "                                                                 \n",
      " dropout_14 (Dropout)        (None, 128)               0         \n",
      "                                                                 \n",
      " dense_28 (Dense)            (None, 64)                8256      \n",
      "                                                                 \n",
      " dropout_15 (Dropout)        (None, 64)                0         \n",
      "                                                                 \n",
      " dense_29 (Dense)            (None, 1)                 65        \n",
      "                                                                 \n",
      "=================================================================\n",
      "Total params: 3445225 (13.14 MB)\n",
      "Trainable params: 3445225 (13.14 MB)\n",
      "Non-trainable params: 0 (0.00 Byte)\n",
      "_________________________________________________________________\n"
     ]
    }
   ],
   "source": [
    "\n",
    "# Define a larger and more powerful DNN architecture\n",
    "model = Sequential()\n",
    "\n",
    "# Embedding layer\n",
    "model.add(layers.Embedding(input_dim=len(tokenizer.word_index)+1, output_dim=100, input_length=max_sequence_length))\n",
    "\n",
    "# Convolutional layers for feature extraction\n",
    "model.add(layers.Conv1D(128, 5, activation='relu'))\n",
    "model.add(layers.MaxPooling1D(pool_size=4))\n",
    "model.add(layers.Conv1D(128, 5, activation='relu'))\n",
    "\n",
    "# Bidirectional LSTM for sequential information\n",
    "model.add(layers.Bidirectional(layers.LSTM(64, return_sequences=True)))\n",
    "model.add(layers.GlobalMaxPool1D())\n",
    "\n",
    "# Dense layers with dropout for regularization\n",
    "model.add(layers.Dense(128, activation='relu', kernel_regularizer=l2(0.01)))\n",
    "model.add(layers.Dropout(0.5))\n",
    "model.add(layers.Dense(64, activation='relu', kernel_regularizer=l2(0.01)))\n",
    "model.add(layers.Dropout(0.5))\n",
    "\n",
    "# Output layer\n",
    "model.add(layers.Dense(1, activation='sigmoid'))\n",
    "\n",
    "# Compile the model\n",
    "model.compile(loss='binary_crossentropy', optimizer=Adam(learning_rate=0.0001), metrics=['accuracy'])\n",
    "\n",
    "# Train the model\n",
    "model.summary()"
   ],
   "metadata": {
    "collapsed": false,
    "ExecuteTime": {
     "end_time": "2023-11-13T22:23:11.625270Z",
     "start_time": "2023-11-13T22:23:11.351788Z"
    }
   },
   "id": "f4a6c39fca645f5e"
  },
  {
   "cell_type": "code",
   "execution_count": 170,
   "outputs": [
    {
     "name": "stdout",
     "output_type": "stream",
     "text": [
      "Epoch 1/10\n",
      "560/560 [==============================] - 12s 18ms/step - loss: 1.7477 - accuracy: 0.8611 - val_loss: 0.9904 - val_accuracy: 0.9480\n",
      "Epoch 2/10\n",
      "560/560 [==============================] - 8s 15ms/step - loss: 0.6713 - accuracy: 0.9629 - val_loss: 0.4420 - val_accuracy: 0.9613\n",
      "Epoch 3/10\n",
      "560/560 [==============================] - 8s 15ms/step - loss: 0.2881 - accuracy: 0.9810 - val_loss: 0.2475 - val_accuracy: 0.9619\n",
      "Epoch 4/10\n",
      "560/560 [==============================] - 8s 15ms/step - loss: 0.1372 - accuracy: 0.9897 - val_loss: 0.1825 - val_accuracy: 0.9624\n",
      "Epoch 5/10\n",
      "560/560 [==============================] - 8s 14ms/step - loss: 0.0758 - accuracy: 0.9946 - val_loss: 0.1695 - val_accuracy: 0.9639\n",
      "Epoch 6/10\n",
      "560/560 [==============================] - 8s 14ms/step - loss: 0.0495 - accuracy: 0.9968 - val_loss: 0.1671 - val_accuracy: 0.9605\n",
      "Epoch 7/10\n",
      "560/560 [==============================] - 8s 14ms/step - loss: 0.0366 - accuracy: 0.9981 - val_loss: 0.1578 - val_accuracy: 0.9648\n",
      "Epoch 8/10\n",
      "560/560 [==============================] - 8s 14ms/step - loss: 0.0303 - accuracy: 0.9986 - val_loss: 0.1595 - val_accuracy: 0.9657\n",
      "Epoch 9/10\n",
      "560/560 [==============================] - 9s 15ms/step - loss: 0.0262 - accuracy: 0.9989 - val_loss: 0.1647 - val_accuracy: 0.9634\n",
      "Epoch 10/10\n",
      "560/560 [==============================] - 10s 18ms/step - loss: 0.0222 - accuracy: 0.9995 - val_loss: 0.1693 - val_accuracy: 0.9658\n"
     ]
    }
   ],
   "source": [
    "history = model.fit(X_train, y_train, epochs=10, batch_size=64, validation_data=(X_test, y_test))"
   ],
   "metadata": {
    "collapsed": false,
    "ExecuteTime": {
     "end_time": "2023-11-13T22:24:39.241891Z",
     "start_time": "2023-11-13T22:23:11.627812Z"
    }
   },
   "id": "ae59e1b1e8c62185"
  },
  {
   "cell_type": "code",
   "execution_count": 171,
   "outputs": [
    {
     "name": "stdout",
     "output_type": "stream",
     "text": [
      "280/280 [==============================] - 1s 2ms/step\n"
     ]
    }
   ],
   "source": [
    "y_pred_proba = model.predict(X_test)\n",
    "y_pred = (y_pred_proba > 0.5).astype(int)\n",
    "\n",
    "# Convert predictions back to original labels\n",
    "y_pred_original = label_encoder.inverse_transform(y_pred.flatten())"
   ],
   "metadata": {
    "collapsed": false,
    "ExecuteTime": {
     "end_time": "2023-11-13T22:24:40.174587Z",
     "start_time": "2023-11-13T22:24:39.230802Z"
    }
   },
   "id": "ae0511638f0e096e"
  },
  {
   "cell_type": "code",
   "execution_count": 172,
   "outputs": [
    {
     "name": "stdout",
     "output_type": "stream",
     "text": [
      "Classification Report:\n",
      "               precision    recall  f1-score   support\n",
      "\n",
      "           0       0.97      0.97      0.97      4680\n",
      "           1       0.97      0.96      0.96      4279\n",
      "\n",
      "    accuracy                           0.97      8959\n",
      "   macro avg       0.97      0.97      0.97      8959\n",
      "weighted avg       0.97      0.97      0.97      8959\n"
     ]
    },
    {
     "data": {
      "text/plain": "<Figure size 800x600 with 2 Axes>",
      "image/png": "[encoded data removed]"
     },
     "metadata": {},
     "output_type": "display_data"
    }
   ],
   "source": [
    "\n",
    "\n",
    "# Convert predictions back to original labels\n",
    "y_pred_original = label_encoder.inverse_transform(y_pred.flatten())\n",
    "\n",
    "# Print classification report\n",
    "print(\"Classification Report:\\n\", classification_report(y_test, y_pred))\n",
    "\n",
    "# Plot confusion matrix\n",
    "cm = confusion_matrix(y_test, y_pred)\n",
    "plt.figure(figsize=(8, 6))\n",
    "sns.heatmap(cm, annot=True, fmt='d', cmap='Blues', xticklabels=['Not Fake', 'Fake'], yticklabels=['Not Fake', 'Fake'])\n",
    "plt.title('Confusion Matrix')\n",
    "plt.xlabel('Predicted')\n",
    "plt.ylabel('True')\n",
    "plt.show()\n"
   ],
   "metadata": {
    "collapsed": false,
    "ExecuteTime": {
     "end_time": "2023-11-13T22:24:40.300544Z",
     "start_time": "2023-11-13T22:24:40.176365Z"
    }
   },
   "id": "2125fd39eaa45dc5"
  },
  {
   "cell_type": "code",
   "execution_count": 173,
   "outputs": [
    {
     "name": "stderr",
     "output_type": "stream",
     "text": [
      "/Users/manideep/anaconda3/lib/python3.11/site-packages/keras/src/engine/training.py:3000: UserWarning: You are saving your model as an HDF5 file via `model.save()`. This file format is considered legacy. We recommend using instead the native Keras format, e.g. `model.save('my_model.keras')`.\n",
      "  saving_api.save_model(\n"
     ]
    }
   ],
   "source": [
    "model.save('fake_news_detection_model.h5')"
   ],
   "metadata": {
    "collapsed": false,
    "ExecuteTime": {
     "end_time": "2023-11-13T22:24:40.390769Z",
     "start_time": "2023-11-13T22:24:40.300248Z"
    }
   },
   "id": "a9ba759d5b5c70e1"
  },
  {
   "cell_type": "markdown",
   "source": [
    "**This Less Powerful Model PS:Actually maybe Better ;)**"
   ],
   "metadata": {
    "collapsed": false
   },
   "id": "8595431bf7f9237a"
  },
  {
   "cell_type": "code",
   "execution_count": 174,
   "outputs": [],
   "source": [
    "# import tensorflow as tf\n",
    "# from tensorflow.keras import layers, Sequential\n",
    "# \n",
    "# model = Sequential([\n",
    "#     layers.Embedding(input_dim=len(tokenizer.word_index) + 1, output_dim=100, input_length=max_sequence_length),\n",
    "#     layers.Flatten(),\n",
    "#     layers.Dense(64, activation='relu'),\n",
    "#     layers.Dense(1, activation='sigmoid')\n",
    "# ])\n",
    "# \n",
    "# model.compile(loss='binary_crossentropy', optimizer='adam', metrics=['accuracy'])\n",
    "# model.fit(X_train, y_train, epochs=5, batch_size=64, validation_data=(X_test, y_test))\n",
    "# model.summary()"
   ],
   "metadata": {
    "collapsed": false,
    "ExecuteTime": {
     "end_time": "2023-11-13T22:24:40.391059Z",
     "start_time": "2023-11-13T22:24:40.373092Z"
    }
   },
   "id": "efb068634ef15d9f"
  },
  {
   "cell_type": "code",
   "execution_count": 175,
   "outputs": [
    {
     "data": {
      "text/plain": "<Figure size 1600x800 with 2 Axes>",
      "image/png": "[encoded data removed]"
     },
     "metadata": {},
     "output_type": "display_data"
    }
   ],
   "source": [
    "# Plot all metrics\n",
    "plt.figure(figsize=(16, 8))\n",
    "\n",
    "# Plot Validation Loss\n",
    "plt.subplot(2, 2, 1)\n",
    "plt.plot(history.history['val_loss'], label='Validation Loss', color='red')\n",
    "plt.title('Validation Loss')\n",
    "plt.xlabel('Epochs')\n",
    "plt.ylabel('Loss')\n",
    "plt.legend()\n",
    "\n",
    "# Plot Validation Accuracy\n",
    "plt.subplot(2, 2, 2)\n",
    "plt.plot(history.history['val_accuracy'], label='Validation Accuracy', color='blue')\n",
    "plt.title('Validation Accuracy')\n",
    "plt.xlabel('Epochs')\n",
    "plt.ylabel('Accuracy')\n",
    "plt.legend()\n",
    "\n",
    "\n",
    "\n",
    "plt.tight_layout()\n",
    "plt.show()"
   ],
   "metadata": {
    "collapsed": false,
    "ExecuteTime": {
     "end_time": "2023-11-13T22:24:40.609013Z",
     "start_time": "2023-11-13T22:24:40.379595Z"
    }
   },
   "id": "c14141619b3aec8c"
  },
  {
   "cell_type": "code",
   "execution_count": 176,
   "outputs": [
    {
     "name": "stdout",
     "output_type": "stream",
     "text": [
      "Precision: 0.9659863945578231\n",
      "Recall: 0.9623743865389109\n",
      "F1 Score: 0.9641770077265277\n"
     ]
    }
   ],
   "source": [
    "precision = precision_score(y_test, y_pred)\n",
    "recall = recall_score(y_test, y_pred)\n",
    "f1 = f1_score(y_test, y_pred)\n",
    "\n",
    "print(f\"Precision: {precision}\")\n",
    "print(f\"Recall: {recall}\")\n",
    "print(f\"F1 Score: {f1}\")"
   ],
   "metadata": {
    "collapsed": false,
    "ExecuteTime": {
     "end_time": "2023-11-13T22:24:40.623766Z",
     "start_time": "2023-11-13T22:24:40.611193Z"
    }
   },
   "id": "1d061c0c56e1c500"
  },
  {
   "cell_type": "code",
   "execution_count": 176,
   "outputs": [],
   "source": [],
   "metadata": {
    "collapsed": false,
    "ExecuteTime": {
     "end_time": "2023-11-13T22:24:40.623911Z",
     "start_time": "2023-11-13T22:24:40.622342Z"
    }
   },
   "id": "4d902ad1ea4cce81"
  }
 ],
 "metadata": {
  "kernelspec": {
   "display_name": "Python 3",
   "language": "python",
   "name": "python3"
  },
  "language_info": {
   "codemirror_mode": {
    "name": "ipython",
    "version": 2
   },
   "file_extension": ".py",
   "mimetype": "text/x-python",
   "name": "python",
   "nbconvert_exporter": "python",
   "pygments_lexer": "ipython2",
   "version": "2.7.6"
  }
 },
 "nbformat": 4,
 "nbformat_minor": 5
}
